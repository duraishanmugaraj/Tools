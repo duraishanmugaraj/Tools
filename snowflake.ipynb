{
 "cells": [
  {
   "cell_type": "code",
   "execution_count": 2,
   "metadata": {},
   "outputs": [],
   "source": [
    "from dotenv import load_dotenv\n",
    "import os\n",
    "\n",
    "# Load environment variables from .env file\n",
    "load_dotenv()\n",
    "\n",
    "# Access the variables\n",
    "user = os.getenv('USER')\n",
    "password = os.getenv('PASSWORD')\n",
    "account = os.getenv('ACCOUNT')\n",
    "\n",
    "#.env\n",
    "# USER=\n",
    "# PASSWORD=\n",
    "# ACCOUNT=\n"
   ]
  },
  {
   "cell_type": "code",
   "execution_count": null,
   "metadata": {},
   "outputs": [],
   "source": [
    "import snowflake.connector\n",
    "conn = snowflake.connector.connect(\n",
    "    user=user,\n",
    "    password=password,\n",
    "    account=account,\n",
    "    warehouse='compute_wh',\n",
    "    database='US_ZIP_CODE_CROSSWALK_HUDUPS',\n",
    "    schema='zipcode_crosswalk'\n",
    ")\n",
    "cursor = conn.cursor()\n",
    "cursor.execute(\"\"\"\n",
    "select *, row_number() over(partition by state order by total_population) as rank\n",
    "from COVID19_EPIDEMIOLOGICAL_DATA.PUBLIC.DEMOGRAPHICS order by state,total_population\n",
    "\"\"\")\n",
    "result = cursor.fetchall()\n",
    "conn.close()"
   ]
  }
 ],
 "metadata": {
  "kernelspec": {
   "display_name": "Python 3",
   "language": "python",
   "name": "python3"
  },
  "language_info": {
   "codemirror_mode": {
    "name": "ipython",
    "version": 3
   },
   "file_extension": ".py",
   "mimetype": "text/x-python",
   "name": "python",
   "nbconvert_exporter": "python",
   "pygments_lexer": "ipython3",
   "version": "3.9.16"
  }
 },
 "nbformat": 4,
 "nbformat_minor": 2
}
