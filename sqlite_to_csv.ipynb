{
 "cells": [
  {
   "cell_type": "code",
   "execution_count": 1,
   "metadata": {},
   "outputs": [],
   "source": [
    "import sqlite3\n",
    "import pandas as pd\n",
    "import os\n",
    "\n",
    "def sqlite_to_csv(db_file, output_dir):\n",
    "    # Create output directory if it doesn't exist\n",
    "    if not os.path.exists(output_dir):\n",
    "        os.mkdir(output_dir)\n",
    "\n",
    "    # Connect to the SQLite database\n",
    "    conn = sqlite3.connect(db_file)\n",
    "    \n",
    "    # Get the list of tables in the database\n",
    "    cursor = conn.cursor()\n",
    "    cursor.execute(\"SELECT name FROM sqlite_master WHERE type='table';\")\n",
    "    tables = cursor.fetchall()\n",
    "\n",
    "    # Loop through the tables and export each to a CSV file\n",
    "    for table_name in tables:\n",
    "        table_name = table_name[0]  # Extract the table name from the tuple\n",
    "        df = pd.read_sql_query(f\"SELECT * FROM {table_name}\", conn)\n",
    "        csv_file = os.path.join(output_dir, f\"{table_name}.csv\")\n",
    "        df.to_csv(csv_file, index=False)\n",
    "        print(f\"Exported {table_name} to {csv_file}\")\n",
    "\n",
    "    # Close the database connection\n",
    "    conn.close()"
   ]
  },
  {
   "cell_type": "code",
   "execution_count": 3,
   "metadata": {},
   "outputs": [
    {
     "name": "stdout",
     "output_type": "stream",
     "text": [
      "Exported sqlite_sequence to C:\\\\Users\\\\durai\\\\Downloads\\\\database.sqlite\\\\csv\\\\sqlite_sequence.csv\n",
      "Exported Player_Attributes to C:\\\\Users\\\\durai\\\\Downloads\\\\database.sqlite\\\\csv\\\\Player_Attributes.csv\n",
      "Exported Player to C:\\\\Users\\\\durai\\\\Downloads\\\\database.sqlite\\\\csv\\\\Player.csv\n",
      "Exported Match to C:\\\\Users\\\\durai\\\\Downloads\\\\database.sqlite\\\\csv\\\\Match.csv\n",
      "Exported League to C:\\\\Users\\\\durai\\\\Downloads\\\\database.sqlite\\\\csv\\\\League.csv\n",
      "Exported Country to C:\\\\Users\\\\durai\\\\Downloads\\\\database.sqlite\\\\csv\\\\Country.csv\n",
      "Exported Team to C:\\\\Users\\\\durai\\\\Downloads\\\\database.sqlite\\\\csv\\\\Team.csv\n",
      "Exported Team_Attributes to C:\\\\Users\\\\durai\\\\Downloads\\\\database.sqlite\\\\csv\\\\Team_Attributes.csv\n"
     ]
    }
   ],
   "source": [
    "# Example usage\n",
    "sqlite_to_csv(r\"C:\\\\Users\\\\durai\\\\Downloads\\\\database.sqlite\\\\database.sqlite\", r\"C:\\\\Users\\\\durai\\\\Downloads\\\\database.sqlite\\\\csv\\\\\")"
   ]
  }
 ],
 "metadata": {
  "kernelspec": {
   "display_name": "Python 3",
   "language": "python",
   "name": "python3"
  },
  "language_info": {
   "codemirror_mode": {
    "name": "ipython",
    "version": 3
   },
   "file_extension": ".py",
   "mimetype": "text/x-python",
   "name": "python",
   "nbconvert_exporter": "python",
   "pygments_lexer": "ipython3",
   "version": "3.8.0"
  }
 },
 "nbformat": 4,
 "nbformat_minor": 2
}
