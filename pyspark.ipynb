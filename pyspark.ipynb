{
 "cells": [
  {
   "cell_type": "code",
   "execution_count": 1,
   "metadata": {},
   "outputs": [
    {
     "data": {
      "text/html": [
       "\n",
       "            <div>\n",
       "                <p><b>SparkSession - in-memory</b></p>\n",
       "                \n",
       "        <div>\n",
       "            <p><b>SparkContext</b></p>\n",
       "\n",
       "            <p><a href=\"http://DESKTOP-81J01N7:4040\">Spark UI</a></p>\n",
       "\n",
       "            <dl>\n",
       "              <dt>Version</dt>\n",
       "                <dd><code>v3.3.1</code></dd>\n",
       "              <dt>Master</dt>\n",
       "                <dd><code>local[*]</code></dd>\n",
       "              <dt>AppName</dt>\n",
       "                <dd><code>Snowflake to PySpark</code></dd>\n",
       "            </dl>\n",
       "        </div>\n",
       "        \n",
       "            </div>\n",
       "        "
      ],
      "text/plain": [
       "<pyspark.sql.session.SparkSession at 0x11d0dbc7e50>"
      ]
     },
     "execution_count": 1,
     "metadata": {},
     "output_type": "execute_result"
    }
   ],
   "source": [
    "import os\n",
    "from dotenv import load_dotenv\n",
    "from pyspark.sql import SparkSession\n",
    "load_dotenv()\n",
    "\n",
    "# Initialize a Spark session\n",
    "spark = (SparkSession.builder\n",
    "    .appName(\"Snowflake to PySpark\")\n",
    "    # .config(\"spark.jars.packages\", \"net.snowflake:spark-snowflake_2.12:2.10.0-spark_3.2\") \n",
    "    .master(\"local[*]\")\n",
    "    .getOrCreate())\n",
    "\n",
    "# Display the Spark session \n",
    "spark"
   ]
  },
  {
   "cell_type": "code",
   "execution_count": null,
   "metadata": {},
   "outputs": [],
   "source": [
    "# Snowflake connection options\n",
    "sfOptions = {\n",
    "    \"sfURL\": f\"https://{os.getenv('ACCOUNT')}.snowflakecomputing.com\",\n",
    "    \"sfUser\": os.getenv('USER_NAME'),\n",
    "    \"sfPassword\": os.getenv('PASSWORD'),\n",
    "    \"sfDatabase\": \"TEST\",\n",
    "    \"sfSchema\": \"TEST\",\n",
    "    \"sfWarehouse\": \"compute_wh\",\n",
    "    \"sfRole\": \"ACCOUNTADMIN\"\n",
    "}\n",
    "\n",
    "# Read the data from Snowflake table into a DataFrame\n",
    "df = spark.read \\\n",
    "    .format(\"net.snowflake.spark.snowflake\") \\\n",
    "    .options(**sfOptions) \\\n",
    "    .option(\"dbtable\", \"TEST.TEST.CREDIT_CARD\") \\\n",
    "    .load()\n",
    "\n",
    "# Register the DataFrame as a temporary SQL view for processing\n",
    "df.createOrReplaceTempView(\"CREDIT_CARD\")\n"
   ]
  },
  {
   "cell_type": "code",
   "execution_count": 4,
   "metadata": {},
   "outputs": [
    {
     "name": "stderr",
     "output_type": "stream",
     "text": [
      "[Stage 0:>                                                          (0 + 1) / 1]\r"
     ]
    },
    {
     "name": "stdout",
     "output_type": "stream",
     "text": [
      "+--------+-------------------+-------------------+------------------+-------------------+------------------+------------------+------------------+-------------------+------------------+-------------------+------------------+-------------------+------------------+-------------------+-------------------+------------------+-------------------+------------------+-------------------+-------------------+--------------------+-------------------+-------------------+-------------------+-------------------+-------------------+-------------------+-------------------+------+-----+\n",
      "|    TIME|                 V1|                 V2|                V3|                 V4|                V5|                V6|                V7|                 V8|                V9|                V10|               V11|                V12|               V13|                V14|                V15|               V16|                V17|               V18|                V19|                V20|                 V21|                V22|                V23|                V24|                V25|                V26|                V27|                V28|AMOUNT|CLASS|\n",
      "+--------+-------------------+-------------------+------------------+-------------------+------------------+------------------+------------------+-------------------+------------------+-------------------+------------------+-------------------+------------------+-------------------+-------------------+------------------+-------------------+------------------+-------------------+-------------------+--------------------+-------------------+-------------------+-------------------+-------------------+-------------------+-------------------+-------------------+------+-----+\n",
      "|157641.0| -0.374887370619266|  -4.11729339378491|  -4.1875224037996|   1.18373794632254|-0.310090131427654|-0.899450472361004|   2.7252532041357| -0.949894054704977|-0.171053824310508| -0.383950298690729| -1.43292386006332| -0.233954787781866|-0.173060967229491|   1.15579858379694| 0.0609922403369292|-0.437634662704189| -0.227380513674285|-0.285718698521211| -0.113894844752243|   2.46723269810961|    1.01510422331704| 0.0863033514135896|  -1.42676810402777| -0.596595689077286|  0.204409984529966|  0.927533302336789|  -0.39802548901435|  0.125554710154175|1336.0|    0|\n",
      "|157642.0|-0.0416732511933412|   0.71244420568974|  0.33535085867153| -0.670760190626758| 0.428872888558093|-0.811847554634009| 0.810955098031995| 0.0078032655071081|-0.190866214880937| -0.223122386109244| 0.766145047980819|  0.468258261730657|-0.861865139996295|  0.474579604584876| -0.976567712386884|0.0548392794470782| -0.527432188772319|-0.274295661265464|  0.107782136692494|-0.0774532911198698|  -0.203471813529004| -0.485264248271819| 0.0890083834450539|-0.0100748971629493| -0.570358006667116|  0.123357366885259|  0.240495687692584| 0.0866455092013529|  1.98|    0|\n",
      "|157643.0| -0.832503466188826|  0.682723784631944|  1.02218856923446| -0.717397382886135| 0.427838532191477|  1.58550406037139|-0.335734551790415|   1.11338845257033| 0.019252243360449|  -1.05141052489124| 0.457362240420781|  0.342512098801101| -1.10803892260668|  0.693400052583313|  0.766083459291204|-0.356980260432214|  0.172193840621312|-0.434130513898625| -0.166894804664431| -0.309253450215673|1.02093015277999e-05|-0.0325676095011079|-0.0331243170780324|  -1.69920795655913| -0.504059406166493| -0.412186968702842| 0.0735610937939236| 0.0523765924198769|  3.99|    0|\n",
      "|157643.0|   2.25420752750295|  -1.24481322779075| -1.72863974578842|  -1.68526914781163|-0.633272382837569| -1.07473988257085|-0.382061279894191| -0.511529894450943| -1.84369298764842|   1.61314870246791| -1.20851073789814| -0.580659560773602|  1.46325147523553| -0.196419847373187| 0.0428856326032823|-0.486149866833118|  0.160598658923804|-0.303179983132317|  0.137190343227818| -0.223003202600284|  -0.303673405745144| -0.567555864976534|  0.138123576608639| -0.671257746323221|-0.0802396437891242| -0.282735378147483|-0.0305796850857915|-0.0499709148950415|  85.0|    0|\n",
      "|157643.0|  0.177244382040837|  0.917210791001869|-0.688700744979568| -0.679315255223694|  1.12326209092676|-0.432961532866439| 0.867039513116872| 0.0248384990656834| 0.182589944278121| -0.806064057014407| -1.40091161071351| -0.968885386690624| -1.14843099452001| -0.797624886028567|-0.0091049245692412| 0.510401354176316|  0.272376089211884|0.0492453250291156|-0.0623830038520425|-0.0452201113723892|  -0.389600056638222|  -1.02675925702742| 0.0450413635222858| -0.113254034570941| -0.396547137570523|  0.159356219756419|  0.216028690279438| 0.0750202864404438|  4.49|    0|\n",
      "|157644.0| -0.897403215679839|  0.699772862540808|  0.80409201072632|  0.635410858336631|  1.05363675650451|-0.818910252944362| 0.802695333475396| -0.150121994229663|-0.428486343256276|  -1.06826373992494| -0.46973288624574|  0.347080934734465|  1.04875667172493|  -1.46560256644374| 0.0509824543224673| 0.340349019538857|  0.362220016825516| 0.273746339761634| -0.704288412154429| 0.0121626544218576| -0.0603507325616821| -0.173919888747679| -0.323116082374684|  -0.18831404209253|  0.984769914817444| -0.556450923893259| -0.202612462787745|-0.0024301912341971|  50.0|    0|\n",
      "|157644.0|  -1.32028971061182|-0.0967140071443226|  2.75444126359053|  -2.10382883379794| -1.08911993985864|  1.17039076965806|-0.951504207644949|  0.442544482316705| 0.951322010621573|-0.0946106074903396|  -2.0514309395451| -0.348748182659254| 0.446338569120425|  -2.25011118237956|  -2.33194561730455| 0.865589675341509|  0.291234687426737|  -1.0016284014087|  0.454522241322133|  0.193914179861337|   0.200579799638371|   1.10369423135335| -0.545784798376071|  0.557538500117808|  0.706163403205832|-0.0325177396845115| -0.511315211437245| -0.383131262714821|   9.6|    0|\n",
      "|157644.0| -0.839236815165994|  0.772772938354519| 0.896315790067565| -0.291204774756721|  1.10995788514525|-0.259922685295173|  1.02692579501918| -0.194909979465381|-0.707221666850287| -0.610249324986453| -1.00473075743882|  0.317539398659417|   1.0162701878275|-0.0636537611734492| 0.0062630658661567|-0.576085456788288|-0.0627513392625493|-0.614960936410469|   1.22269613107285|  0.165602349613131|  -0.232444304473928| -0.666007271329866| -0.301846328581569|  0.531258279316342|  0.585379090020058|  0.507216145949509| -0.166378809200635|  0.101108142387477| 31.39|    0|\n",
      "|157645.0|   2.03473237043037| -0.438923466039102|-0.666964426144476|-0.0249050094282948|-0.215106953813965| 0.175390728144177|-0.646125813386846|  0.130326350894405| 0.919428287998534|  0.168865611671255|-0.074021206703936|  0.689784879203225| 0.146746265738576| 0.0419583431391672|-0.0793888274891199| 0.956846855573017|  -1.14999454649998| 0.431947350122071|  0.623283175304275| -0.152084909882827|  -0.237369120539355| -0.598430501807229|  0.278486347413146|  -1.10562331840212| -0.526518996006121|   0.32141927610625|-0.0401344861298193|-0.0641254152450784|  6.99|    0|\n",
      "|157645.0| -0.183479931137426|  0.857937614653596|0.0807566218636643|  0.412551185793813|  1.03282928618833| -1.07274869321084|  1.40937765576693| -0.266740689201988|-0.487884963951038| -0.508335397186214| -1.26858618466222| -0.427358127869716| -1.09741794115717|  0.547713652967518| -0.825632826803471|-0.661245769623629| -0.181485880516096|-0.438938108956117| -0.425318700589288| -0.215632752764924|  0.0889922590906744|  0.283658660084031| -0.323451201392851|-0.0356676340499028|  0.706606250660853| -0.481030364345376|-0.0327263043071444| -0.035265296126595| 21.56|    0|\n",
      "|157646.0|  -1.03994732344747|   1.97440929932459|  -1.4413951020941| -0.296659217416401|   0.5776944419145| -1.75100214096989|  0.51803695000682|  0.561321718994645| -0.47425509408744|  -2.33512697140002|-0.445701875227705| -0.728294232624045|-0.884311269891526|  -1.84691675181435|   0.60350717072587|  1.00089348707433|   2.06025981589296|  1.50450712172025|  -1.01934337751317| -0.399906552122338|   0.299071601393581|  0.626380461177943| -0.295862513568879| -0.250576327442362|-0.0798821861819715| -0.202848250235844|  -0.18622360787109| 0.0927429477928861|   1.0|    0|\n",
      "|157646.0|  -2.69353886870738|   3.10044368971283| -2.55889744137267| -0.673985560453876|  -0.9599197741292| -1.05020493531582|-0.847844018299585|   2.02481930629227|-0.231623935584156|  0.295327097438162|-0.106038118675719|    1.6857008031583| 0.900093210603649|   1.70460318180633| -0.407768316490628| 0.338110148596447| -0.101297811120048| 0.816532937868269|  0.294764224236611|  0.136757173994931|   0.466567982537171|   1.26862048621514|  0.127235361448291| -0.374555932835656| -0.371099953601298| -0.182618771753876|  0.409186278840597|  0.297486784826629|  2.69|    0|\n",
      "|157647.0|   2.05260047957892| -0.110828707060066| -1.24252955680428|  0.188362507635046| 0.149966334997958|-0.615491388148278|0.0749179612326886|  -0.16005763276635| 0.307527691571433|  0.241426971185178| 0.539575444856533|  0.994490117937812| 0.108495817934143|  0.434396258110717|  -0.63063017978852| 0.227930779482464| -0.714481796968903|-0.224519558391214|  0.614696884032326| -0.194597509214057|  -0.268227892903336| -0.670642669547294|  0.268215499852199| -0.491410166198354| -0.263485465875815|   0.20782111444266|-0.0749112758380428|-0.0748118791225046|  1.98|    0|\n",
      "|157647.0|  -1.27199882743545|  0.170024393750088|-0.088251722094101|  -2.11291307127448|  2.75153062500867|  3.66687082623167|-0.146953385279325|  0.950536072153524| 0.489146197127268| -0.622995755433168|-0.196149436731275| 0.0707399586978106|-0.203820118487718|-0.0268143762172014|  0.719533000167805|  0.41010495628507|  -1.06715197027243|-0.140932915582162| -0.918224341480068| -0.253938392801881| -0.0269174966606696| -0.300689448818157|  0.213908698152699|  0.641920715206624|  -0.40112906350585|  -0.76218027414501| -0.467643723395709|  0.418321624672595|  1.18|    0|\n",
      "|157648.0|   2.11751020965837| 0.0235774478087018|  -1.9870043554948|  0.293039239050815| 0.557169624192171|-0.579877938926374|0.0576564317318973| -0.102645605597837| 0.789471792393416| -0.327531662600769|   -1.388329399547| -0.944194688986781| -1.51183387023545| -0.545963751991944|  0.433139290855922| 0.569220418192005|  0.352482971760458|0.0930677139455327|  0.289491593096733| -0.246063991259267|  -0.423721871213864|  -1.19176114420418|  0.286955353814581| -0.108455477801213| -0.234985090743966|  0.214397040406983|-0.0743007330473323|-0.0402667266075482|  0.89|    0|\n",
      "|157648.0|    1.2256294168653|  -2.05483045588278| 0.581187780359728|  0.992412322822088| -1.98712886707541| 0.801471953821846| -1.23315068801493|  0.387753146721514|  2.27265675996996| -0.326349517961391|0.0448312599642679|   1.58334135387118|0.0022237043746793|  -1.08403078522063|  -2.18352446960988|0.0524856989296345| -0.103699713770269| 0.410027617945241|  0.385379033868296|  0.447661826986291|   0.322247458766696|  0.750138445722837|  -0.10597983595467|   0.19113939238615| -0.548493821296221|  0.679922959833611|-0.0208893379416632| 0.0102587672514416| 328.0|    0|\n",
      "|157648.0| -0.248509726495573|   1.07946868252229|-0.393704058864527| -0.717591356587321| 0.433266436288412|-0.742173056932365| 0.650636809594189|  0.271991343687211|-0.147823288876947| -0.634919406057096|  -1.7640334565014|-0.0047852664362168| 0.104355478852626|   0.40333711619458| -0.376267347676382| 0.253744161776144| -0.508267605605149|-0.450619902765913|  0.194131536965775|  -0.11870850845706|  -0.265742678361742| -0.729147274943867| 0.0467918131182337| -0.727072224534445| -0.365658411742183|  0.187573122607184|  0.118165813854475|   0.02770642473007|  9.42|    0|\n",
      "|157649.0|   1.97557156420932|  0.257052006508714| -2.30602086566742|  0.710884424036468| 0.692095080411303|-0.652265232920129|0.0815479580842565|-0.0723374784955656| 0.434517554214779| -0.909660163633121|  1.46953564433281|  0.606872423893538|-0.252219110287855|  -2.46321159652085|  -1.01268702234767| 0.489980229475144|   1.82543420356317|  1.04599683077151|-0.0550521360391502| -0.103584896278749|  0.0385742696680821|  0.372966181302742|-0.0156695797948929|  0.567601948187327|  0.176486311786696|  0.675621228331706|-0.0423392384959142|-0.0146088068254063| 12.31|    0|\n",
      "|157649.0| -0.923490195175723| -0.411541403361359|  1.31870999103651| -0.807033963370218|  1.07094881607993|-0.566722373692538| 0.130075177826392| 0.0337314567968639| 0.252200442683106| -0.169607973034594| 0.363178350489606|  0.547406517051136|0.0437651361614005| -0.180551484396432| -0.560353267086069| 0.613677406482808|  -1.12055820949404| 0.304506409314633|   0.26068587480448|  0.416315140021198|  -0.149954952111745| -0.454977516408151|  0.243535026473874| -0.512818109939499| -0.825786410745404|  0.153323797882963|  0.164884187285001| 0.0275399485708718| 40.47|    0|\n",
      "|157649.0|   2.00855016015528|  -1.00830627696618|-0.317348840213955|-0.0696998055948962| -1.27863546083863|-0.576883570660935|-0.886241531559988| -0.056933909460289| 0.116562119974472|    0.8426102410503| -1.31226379337613| -0.339061579495805|-0.313155831453531|-0.0866695618949391|  0.456310113353515|-0.995510666165627| -0.300401516461393|  1.13850279602969| -0.884743665061387| -0.551588310312965|   -0.55429928472897|  -1.15899745384567|  0.436957785315452| -0.193691591275635|  -0.70936766810153|-0.0159983045075576|-0.0008288727590658|-0.0275011483844943|  59.4|    0|\n",
      "+--------+-------------------+-------------------+------------------+-------------------+------------------+------------------+------------------+-------------------+------------------+-------------------+------------------+-------------------+------------------+-------------------+-------------------+------------------+-------------------+------------------+-------------------+-------------------+--------------------+-------------------+-------------------+-------------------+-------------------+-------------------+-------------------+-------------------+------+-----+\n",
      "only showing top 20 rows\n",
      "\n"
     ]
    },
    {
     "name": "stderr",
     "output_type": "stream",
     "text": [
      "                                                                                \r"
     ]
    }
   ],
   "source": [
    "df.show()"
   ]
  },
  {
   "cell_type": "code",
   "execution_count": 5,
   "metadata": {},
   "outputs": [
    {
     "name": "stderr",
     "output_type": "stream",
     "text": [
      "                                                                                \r"
     ]
    },
    {
     "data": {
      "text/plain": [
       "313287"
      ]
     },
     "execution_count": 5,
     "metadata": {},
     "output_type": "execute_result"
    }
   ],
   "source": [
    "df.count()"
   ]
  },
  {
   "cell_type": "code",
   "execution_count": 6,
   "metadata": {},
   "outputs": [
    {
     "name": "stderr",
     "output_type": "stream",
     "text": [
      "24/08/10 20:38:31 WARN SnowflakeConnectorUtils$: Query pushdown is not supported because you are using Spark 3.0.1 with a connector designed to support Spark 3.2. Either use the version of Spark supported by the connector or install a version of the connector that supports your version of Spark.\n",
      "24/08/10 20:39:05 WARN SnowflakeConnectorUtils$: Query pushdown is not supported because you are using Spark 3.0.1 with a connector designed to support Spark 3.2. Either use the version of Spark supported by the connector or install a version of the connector that supports your version of Spark.\n"
     ]
    }
   ],
   "source": [
    "df.write.format(\"snowflake\") \\\n",
    "    .options(**sfOptions) \\\n",
    "    .option(\"dbtable\", \"TEST.TEST.CREDIT_CARD_V2\") \\\n",
    "    .mode(\"overwrite\") \\\n",
    "    .save()"
   ]
  },
  {
   "cell_type": "code",
   "execution_count": 7,
   "metadata": {},
   "outputs": [
    {
     "name": "stderr",
     "output_type": "stream",
     "text": [
      "24/08/10 20:39:07 WARN SnowflakeConnectorUtils$: Query pushdown is not supported because you are using Spark 3.0.1 with a connector designed to support Spark 3.2. Either use the version of Spark supported by the connector or install a version of the connector that supports your version of Spark.\n",
      "                                                                                \r"
     ]
    },
    {
     "data": {
      "text/plain": [
       "313287"
      ]
     },
     "execution_count": 7,
     "metadata": {},
     "output_type": "execute_result"
    }
   ],
   "source": [
    "spark.read \\\n",
    "    .format(\"net.snowflake.spark.snowflake\") \\\n",
    "    .options(**sfOptions) \\\n",
    "    .option(\"dbtable\", \"TEST.TEST.CREDIT_CARD_V2\") \\\n",
    "    .load().count()"
   ]
  },
  {
   "cell_type": "code",
   "execution_count": 2,
   "metadata": {},
   "outputs": [
    {
     "data": {
      "text/plain": [
       "6924049"
      ]
     },
     "execution_count": 2,
     "metadata": {},
     "output_type": "execute_result"
    }
   ],
   "source": [
    "df = spark.read.csv(r\"C:\\Users\\durai\\Downloads\\LI-Small_Trans.csv\\LI-Small_Trans.csv\",header=True)\n",
    "df.cache().count()"
   ]
  },
  {
   "cell_type": "code",
   "execution_count": 12,
   "metadata": {},
   "outputs": [
    {
     "name": "stdout",
     "output_type": "stream",
     "text": [
      "+----------+--------+\n",
      "|date      |count(1)|\n",
      "+----------+--------+\n",
      "|2022/09/02|1027758 |\n",
      "|2022/09/03|283326  |\n",
      "|2022/09/06|657170  |\n",
      "|2022/09/05|657397  |\n",
      "|2022/09/01|1524807 |\n",
      "|2022/09/04|282476  |\n",
      "|2022/09/10|282877  |\n",
      "|2022/09/08|657938  |\n",
      "|2022/09/09|891573  |\n",
      "|2022/09/07|658504  |\n",
      "|2022/09/11|77      |\n",
      "|2022/09/13|48      |\n",
      "|2022/09/12|48      |\n",
      "|2022/09/15|9       |\n",
      "|2022/09/14|31      |\n",
      "|2022/09/16|7       |\n",
      "|2022/09/17|3       |\n",
      "+----------+--------+\n",
      "\n"
     ]
    }
   ],
   "source": [
    "\n",
    "df.select(substring(\"timestamp\", 1, 10).alias('date')).groupBy('date').agg(count('*')).show(1000,False)"
   ]
  },
  {
   "cell_type": "code",
   "execution_count": 16,
   "metadata": {},
   "outputs": [
    {
     "name": "stdout",
     "output_type": "stream",
     "text": [
      "+----------+--------+\n",
      "|date      |count(1)|\n",
      "+----------+--------+\n",
      "|2022/09/01|1524807 |\n",
      "|2022/09/02|1027758 |\n",
      "|2022/09/03|283326  |\n",
      "|2022/09/04|282476  |\n",
      "|2022/09/05|657397  |\n",
      "|2022/09/06|657170  |\n",
      "|2022/09/07|658504  |\n",
      "|2022/09/08|657938  |\n",
      "|2022/09/09|891573  |\n",
      "+----------+--------+\n",
      "\n"
     ]
    }
   ],
   "source": [
    "(\n",
    "    df\n",
    "    .withColumn('date',substring(\"timestamp\", 1, 10))\n",
    "    .filter(col('date') < '2022/09/10')\n",
    "    .groupBy('date')\n",
    "    .agg(count('*'))\n",
    "    .sort('date')\n",
    "    .show(1000,False)\n",
    ")"
   ]
  },
  {
   "cell_type": "code",
   "execution_count": 22,
   "metadata": {},
   "outputs": [
    {
     "name": "stdout",
     "output_type": "stream",
     "text": [
      "+----------------+---------+---------+-------+---------+---------------+------------------+------------+----------------+--------------+-------------+\n",
      "|Timestamp       |From Bank|Account2 |To Bank|Account4 |Amount Received|Receiving Currency|Amount Paid |Payment Currency|Payment Format|Is Laundering|\n",
      "+----------------+---------+---------+-------+---------+---------------+------------------+------------+----------------+--------------+-------------+\n",
      "|2022/09/01 00:02|070      |10042B660|022661 |805F7F2B0|70831.64       |US Dollar         |70831.64    |US Dollar       |Cash          |1            |\n",
      "|2022/09/01 00:19|070      |10042B660|0212996|80609B4C0|33705.47       |US Dollar         |33705.47    |US Dollar       |Cash          |1            |\n",
      "|2022/09/01 00:01|070      |10042B660|0011305|807861770|1097976.27     |US Dollar         |1097976.27  |US Dollar       |Cash          |1            |\n",
      "|2022/09/01 00:00|011968   |815630C40|0249349|815635220|892.33         |US Dollar         |892.33      |US Dollar       |ACH           |1            |\n",
      "|2022/09/01 00:25|070      |10042B660|011968 |816F93AF0|1808.14        |US Dollar         |1808.14     |US Dollar       |Cheque        |1            |\n",
      "|2022/09/01 00:15|0269198  |81A1C7C80|01291  |81A1C7D20|2365.38        |US Dollar         |2365.38     |US Dollar       |ACH           |1            |\n",
      "|2022/09/01 00:03|070      |10042B6A8|0212854|806242CD0|22478.74       |Euro              |22478.74    |Euro            |Cash          |1            |\n",
      "|2022/09/01 00:03|070      |10042B6A8|0115332|806573660|9626868.13     |Euro              |9626868.13  |Euro            |Cash          |1            |\n",
      "|2022/09/01 00:11|070      |10042B6F0|009976 |803A2BC70|76688.88       |Yuan              |76688.88    |Yuan            |Cash          |1            |\n",
      "|2022/09/01 00:03|070      |10042B6F0|0111615|8045CDF10|148561310.60   |Yuan              |148561310.60|Yuan            |Cash          |1            |\n",
      "|2022/09/01 00:19|070      |10042B7C8|023    |80C07E220|166980.90      |Ruble             |166980.90   |Ruble           |Cheque        |1            |\n",
      "|2022/09/01 00:29|070      |10042B810|0233674|80C8D2440|5535.34        |UK Pound          |5535.34     |UK Pound        |Cheque        |1            |\n",
      "|2022/09/01 00:05|070      |10042B978|0054266|81468BEA0|44.54          |Swiss Franc       |44.54       |Swiss Franc     |Cheque        |1            |\n",
      "|2022/09/01 00:24|070      |10042B9C0|0258606|815DDBCB0|79144.33       |Shekel            |79144.33    |Shekel          |Credit Card   |1            |\n",
      "|2022/09/01 00:29|070      |10042BA51|0071716|81B2DD1F1|4.229011       |Bitcoin           |4.229011    |Bitcoin         |Bitcoin       |1            |\n",
      "|2022/09/01 00:46|070      |10042B660|002368 |802DC8B00|3668.85        |US Dollar         |3668.85     |US Dollar       |Cash          |1            |\n",
      "|2022/09/01 00:31|003440   |805700390|0111913|8057003E0|4169.96        |US Dollar         |4169.96     |US Dollar       |ACH           |1            |\n",
      "|2022/09/01 00:49|070      |10042B660|0215456|80D450BE0|2787.01        |US Dollar         |2787.01     |US Dollar       |Cheque        |1            |\n",
      "|2022/09/01 00:55|070      |10042B660|0120364|80F0FBEC0|1510.06        |US Dollar         |1510.06     |US Dollar       |Cheque        |1            |\n",
      "|2022/09/01 00:59|0113002  |816340480|0258196|816340570|2256.42        |US Dollar         |2256.42     |US Dollar       |ACH           |1            |\n",
      "+----------------+---------+---------+-------+---------+---------------+------------------+------------+----------------+--------------+-------------+\n",
      "only showing top 20 rows\n",
      "\n"
     ]
    },
    {
     "data": {
      "text/plain": [
       "3565"
      ]
     },
     "execution_count": 22,
     "metadata": {},
     "output_type": "execute_result"
    }
   ],
   "source": [
    "df.filter(col('Is Laundering') == 1).show(truncate=False)\n",
    "df.filter(col('Is Laundering') == 1).count() "
   ]
  },
  {
   "cell_type": "code",
   "execution_count": 21,
   "metadata": {},
   "outputs": [
    {
     "name": "stdout",
     "output_type": "stream",
     "text": [
      "+----------+--------+\n",
      "|date      |count(1)|\n",
      "+----------+--------+\n",
      "|2022/09/01|310     |\n",
      "|2022/09/02|350     |\n",
      "|2022/09/03|292     |\n",
      "|2022/09/04|291     |\n",
      "|2022/09/05|370     |\n",
      "|2022/09/06|380     |\n",
      "|2022/09/07|368     |\n",
      "|2022/09/08|402     |\n",
      "|2022/09/09|367     |\n",
      "+----------+--------+\n",
      "\n"
     ]
    }
   ],
   "source": [
    "(\n",
    "    df\n",
    "    .withColumn('date',substring(\"timestamp\", 1, 10))\n",
    "    .filter((col('date') < '2022/09/10') & (col('Is Laundering') == 1))\n",
    "    .groupBy('date')\n",
    "    .agg(count('*'))\n",
    "    .sort('date')\n",
    "    .show(1000,False)\n",
    ")"
   ]
  },
  {
   "cell_type": "code",
   "execution_count": 22,
   "metadata": {},
   "outputs": [
    {
     "ename": "Py4JJavaError",
     "evalue": "An error occurred while calling o230.save.\n: org.apache.spark.SparkException: Job aborted.\r\n\tat org.apache.spark.sql.errors.QueryExecutionErrors$.jobAbortedError(QueryExecutionErrors.scala:651)\r\n\tat org.apache.spark.sql.execution.datasources.FileFormatWriter$.write(FileFormatWriter.scala:278)\r\n\tat org.apache.spark.sql.execution.datasources.InsertIntoHadoopFsRelationCommand.run(InsertIntoHadoopFsRelationCommand.scala:186)\r\n\tat org.apache.spark.sql.execution.command.DataWritingCommandExec.sideEffectResult$lzycompute(commands.scala:113)\r\n\tat org.apache.spark.sql.execution.command.DataWritingCommandExec.sideEffectResult(commands.scala:111)\r\n\tat org.apache.spark.sql.execution.command.DataWritingCommandExec.executeCollect(commands.scala:125)\r\n\tat org.apache.spark.sql.execution.QueryExecution$$anonfun$eagerlyExecuteCommands$1.$anonfun$applyOrElse$1(QueryExecution.scala:98)\r\n\tat org.apache.spark.sql.execution.SQLExecution$.$anonfun$withNewExecutionId$6(SQLExecution.scala:109)\r\n\tat org.apache.spark.sql.execution.SQLExecution$.withSQLConfPropagated(SQLExecution.scala:169)\r\n\tat org.apache.spark.sql.execution.SQLExecution$.$anonfun$withNewExecutionId$1(SQLExecution.scala:95)\r\n\tat org.apache.spark.sql.SparkSession.withActive(SparkSession.scala:779)\r\n\tat org.apache.spark.sql.execution.SQLExecution$.withNewExecutionId(SQLExecution.scala:64)\r\n\tat org.apache.spark.sql.execution.QueryExecution$$anonfun$eagerlyExecuteCommands$1.applyOrElse(QueryExecution.scala:98)\r\n\tat org.apache.spark.sql.execution.QueryExecution$$anonfun$eagerlyExecuteCommands$1.applyOrElse(QueryExecution.scala:94)\r\n\tat org.apache.spark.sql.catalyst.trees.TreeNode.$anonfun$transformDownWithPruning$1(TreeNode.scala:584)\r\n\tat org.apache.spark.sql.catalyst.trees.CurrentOrigin$.withOrigin(TreeNode.scala:176)\r\n\tat org.apache.spark.sql.catalyst.trees.TreeNode.transformDownWithPruning(TreeNode.scala:584)\r\n\tat org.apache.spark.sql.catalyst.plans.logical.LogicalPlan.org$apache$spark$sql$catalyst$plans$logical$AnalysisHelper$$super$transformDownWithPruning(LogicalPlan.scala:30)\r\n\tat org.apache.spark.sql.catalyst.plans.logical.AnalysisHelper.transformDownWithPruning(AnalysisHelper.scala:267)\r\n\tat org.apache.spark.sql.catalyst.plans.logical.AnalysisHelper.transformDownWithPruning$(AnalysisHelper.scala:263)\r\n\tat org.apache.spark.sql.catalyst.plans.logical.LogicalPlan.transformDownWithPruning(LogicalPlan.scala:30)\r\n\tat org.apache.spark.sql.catalyst.plans.logical.LogicalPlan.transformDownWithPruning(LogicalPlan.scala:30)\r\n\tat org.apache.spark.sql.catalyst.trees.TreeNode.transformDown(TreeNode.scala:560)\r\n\tat org.apache.spark.sql.execution.QueryExecution.eagerlyExecuteCommands(QueryExecution.scala:94)\r\n\tat org.apache.spark.sql.execution.QueryExecution.commandExecuted$lzycompute(QueryExecution.scala:81)\r\n\tat org.apache.spark.sql.execution.QueryExecution.commandExecuted(QueryExecution.scala:79)\r\n\tat org.apache.spark.sql.execution.QueryExecution.assertCommandExecuted(QueryExecution.scala:116)\r\n\tat org.apache.spark.sql.DataFrameWriter.runCommand(DataFrameWriter.scala:860)\r\n\tat org.apache.spark.sql.DataFrameWriter.saveToV1Source(DataFrameWriter.scala:390)\r\n\tat org.apache.spark.sql.DataFrameWriter.saveInternal(DataFrameWriter.scala:363)\r\n\tat org.apache.spark.sql.DataFrameWriter.save(DataFrameWriter.scala:239)\r\n\tat sun.reflect.NativeMethodAccessorImpl.invoke0(Native Method)\r\n\tat sun.reflect.NativeMethodAccessorImpl.invoke(Unknown Source)\r\n\tat sun.reflect.DelegatingMethodAccessorImpl.invoke(Unknown Source)\r\n\tat java.lang.reflect.Method.invoke(Unknown Source)\r\n\tat py4j.reflection.MethodInvoker.invoke(MethodInvoker.java:244)\r\n\tat py4j.reflection.ReflectionEngine.invoke(ReflectionEngine.java:357)\r\n\tat py4j.Gateway.invoke(Gateway.java:282)\r\n\tat py4j.commands.AbstractCommand.invokeMethod(AbstractCommand.java:132)\r\n\tat py4j.commands.CallCommand.execute(CallCommand.java:79)\r\n\tat py4j.ClientServerConnection.waitForCommands(ClientServerConnection.java:182)\r\n\tat py4j.ClientServerConnection.run(ClientServerConnection.java:106)\r\n\tat java.lang.Thread.run(Unknown Source)\r\nCaused by: java.lang.UnsatisfiedLinkError: org.apache.hadoop.io.nativeio.NativeIO$Windows.access0(Ljava/lang/String;I)Z\r\n\tat org.apache.hadoop.io.nativeio.NativeIO$Windows.access0(Native Method)\r\n\tat org.apache.hadoop.io.nativeio.NativeIO$Windows.access(NativeIO.java:793)\r\n\tat org.apache.hadoop.fs.FileUtil.canRead(FileUtil.java:1218)\r\n\tat org.apache.hadoop.fs.FileUtil.list(FileUtil.java:1423)\r\n\tat org.apache.hadoop.fs.RawLocalFileSystem.listStatus(RawLocalFileSystem.java:601)\r\n\tat org.apache.hadoop.fs.FileSystem.listStatus(FileSystem.java:1972)\r\n\tat org.apache.hadoop.fs.FileSystem.listStatus(FileSystem.java:2014)\r\n\tat org.apache.hadoop.fs.ChecksumFileSystem.listStatus(ChecksumFileSystem.java:761)\r\n\tat org.apache.hadoop.fs.FileSystem.listStatus(FileSystem.java:1972)\r\n\tat org.apache.hadoop.fs.FileSystem.listStatus(FileSystem.java:2014)\r\n\tat org.apache.hadoop.mapreduce.lib.output.FileOutputCommitter.getAllCommittedTaskPaths(FileOutputCommitter.java:334)\r\n\tat org.apache.hadoop.mapreduce.lib.output.FileOutputCommitter.commitJobInternal(FileOutputCommitter.java:404)\r\n\tat org.apache.hadoop.mapreduce.lib.output.FileOutputCommitter.commitJob(FileOutputCommitter.java:377)\r\n\tat org.apache.spark.internal.io.HadoopMapReduceCommitProtocol.commitJob(HadoopMapReduceCommitProtocol.scala:192)\r\n\tat org.apache.spark.sql.execution.datasources.FileFormatWriter$.$anonfun$write$25(FileFormatWriter.scala:267)\r\n\tat scala.runtime.java8.JFunction0$mcV$sp.apply(JFunction0$mcV$sp.scala:18)\r\n\tat org.apache.spark.util.Utils$.timeTakenMs(Utils.scala:642)\r\n\tat org.apache.spark.sql.execution.datasources.FileFormatWriter$.write(FileFormatWriter.scala:267)\r\n\t... 41 more\r\n",
     "output_type": "error",
     "traceback": [
      "\u001b[1;31m---------------------------------------------------------------------------\u001b[0m",
      "\u001b[1;31mPy4JJavaError\u001b[0m                             Traceback (most recent call last)",
      "Input \u001b[1;32mIn [22]\u001b[0m, in \u001b[0;36m<cell line: 11>\u001b[1;34m()\u001b[0m\n\u001b[0;32m      8\u001b[0m os\u001b[38;5;241m.\u001b[39menviron[\u001b[38;5;124m'\u001b[39m\u001b[38;5;124mPYSPARK_DRIVER_PYTHON\u001b[39m\u001b[38;5;124m'\u001b[39m] \u001b[38;5;241m=\u001b[39m sys\u001b[38;5;241m.\u001b[39mexecutable\n\u001b[0;32m      9\u001b[0m \u001b[38;5;28;01mfrom\u001b[39;00m \u001b[38;5;21;01mpyspark\u001b[39;00m\u001b[38;5;21;01m.\u001b[39;00m\u001b[38;5;21;01msql\u001b[39;00m\u001b[38;5;21;01m.\u001b[39;00m\u001b[38;5;21;01mfunctions\u001b[39;00m \u001b[38;5;28;01mimport\u001b[39;00m col,substring,count\n\u001b[0;32m     10\u001b[0m (\n\u001b[1;32m---> 11\u001b[0m     \u001b[43mdf\u001b[49m\n\u001b[0;32m     12\u001b[0m \u001b[43m    \u001b[49m\u001b[38;5;241;43m.\u001b[39;49m\u001b[43mna\u001b[49m\u001b[38;5;241;43m.\u001b[39;49m\u001b[43mfill\u001b[49m\u001b[43m(\u001b[49m\u001b[38;5;124;43m'\u001b[39;49m\u001b[38;5;124;43m'\u001b[39;49m\u001b[43m)\u001b[49m\n\u001b[0;32m     13\u001b[0m \u001b[43m    \u001b[49m\u001b[38;5;241;43m.\u001b[39;49m\u001b[43mcoalesce\u001b[49m\u001b[43m(\u001b[49m\u001b[38;5;241;43m1\u001b[39;49m\u001b[43m)\u001b[49m\n\u001b[0;32m     14\u001b[0m \u001b[43m    \u001b[49m\u001b[38;5;241;43m.\u001b[39;49m\u001b[43mfilter\u001b[49m\u001b[43m(\u001b[49m\u001b[43m(\u001b[49m\u001b[43msubstring\u001b[49m\u001b[43m(\u001b[49m\u001b[38;5;124;43m\"\u001b[39;49m\u001b[38;5;124;43mtimestamp\u001b[39;49m\u001b[38;5;124;43m\"\u001b[39;49m\u001b[43m,\u001b[49m\u001b[43m \u001b[49m\u001b[38;5;241;43m1\u001b[39;49m\u001b[43m,\u001b[49m\u001b[43m \u001b[49m\u001b[38;5;241;43m10\u001b[39;49m\u001b[43m)\u001b[49m\u001b[43m \u001b[49m\u001b[38;5;241;43m<\u001b[39;49m\u001b[38;5;241;43m=\u001b[39;49m\u001b[43m \u001b[49m\u001b[38;5;124;43m'\u001b[39;49m\u001b[38;5;124;43m2022/09/03\u001b[39;49m\u001b[38;5;124;43m'\u001b[39;49m\u001b[43m)\u001b[49m\u001b[43m)\u001b[49m\n\u001b[0;32m     15\u001b[0m \u001b[43m    \u001b[49m\u001b[38;5;241;43m.\u001b[39;49m\u001b[43mwrite\u001b[49m\n\u001b[0;32m     16\u001b[0m \u001b[43m    \u001b[49m\u001b[38;5;241;43m.\u001b[39;49m\u001b[43moption\u001b[49m\u001b[43m(\u001b[49m\u001b[38;5;124;43m\"\u001b[39;49m\u001b[38;5;124;43mheader\u001b[39;49m\u001b[38;5;124;43m\"\u001b[39;49m\u001b[43m,\u001b[49m\u001b[38;5;124;43m\"\u001b[39;49m\u001b[38;5;124;43mtrue\u001b[39;49m\u001b[38;5;124;43m\"\u001b[39;49m\u001b[43m)\u001b[49m\n\u001b[0;32m     17\u001b[0m \u001b[43m    \u001b[49m\u001b[38;5;241;43m.\u001b[39;49m\u001b[43mformat\u001b[49m\u001b[43m(\u001b[49m\u001b[38;5;124;43m\"\u001b[39;49m\u001b[38;5;124;43mcsv\u001b[39;49m\u001b[38;5;124;43m\"\u001b[39;49m\u001b[43m)\u001b[49m\n\u001b[0;32m     18\u001b[0m \u001b[43m    \u001b[49m\u001b[38;5;241;43m.\u001b[39;49m\u001b[43msave\u001b[49m\u001b[43m(\u001b[49m\u001b[38;5;124;43mr\u001b[39;49m\u001b[38;5;124;43m\"\u001b[39;49m\u001b[38;5;124;43mdata\u001b[39;49m\u001b[38;5;124;43m\\\u001b[39;49m\u001b[38;5;124;43mtransactions\u001b[39;49m\u001b[38;5;124;43m\\\u001b[39;49m\u001b[38;5;124;43mtransactions_load_1\u001b[39;49m\u001b[38;5;124;43m\"\u001b[39;49m\u001b[43m)\u001b[49m\n\u001b[0;32m     19\u001b[0m )\n",
      "File \u001b[1;32mc:\\Users\\durai\\AppData\\Local\\Programs\\Python\\Python38\\lib\\site-packages\\pyspark\\sql\\readwriter.py:827\u001b[0m, in \u001b[0;36mDataFrameWriter.save\u001b[1;34m(self, path, format, mode, partitionBy, **options)\u001b[0m\n\u001b[0;32m    825\u001b[0m     \u001b[38;5;28mself\u001b[39m\u001b[38;5;241m.\u001b[39m_jwrite\u001b[38;5;241m.\u001b[39msave()\n\u001b[0;32m    826\u001b[0m \u001b[38;5;28;01melse\u001b[39;00m:\n\u001b[1;32m--> 827\u001b[0m     \u001b[38;5;28;43mself\u001b[39;49m\u001b[38;5;241;43m.\u001b[39;49m\u001b[43m_jwrite\u001b[49m\u001b[38;5;241;43m.\u001b[39;49m\u001b[43msave\u001b[49m\u001b[43m(\u001b[49m\u001b[43mpath\u001b[49m\u001b[43m)\u001b[49m\n",
      "File \u001b[1;32mc:\\Users\\durai\\AppData\\Local\\Programs\\Python\\Python38\\lib\\site-packages\\py4j\\java_gateway.py:1304\u001b[0m, in \u001b[0;36mJavaMember.__call__\u001b[1;34m(self, *args)\u001b[0m\n\u001b[0;32m   1298\u001b[0m command \u001b[38;5;241m=\u001b[39m proto\u001b[38;5;241m.\u001b[39mCALL_COMMAND_NAME \u001b[38;5;241m+\u001b[39m\\\n\u001b[0;32m   1299\u001b[0m     \u001b[38;5;28mself\u001b[39m\u001b[38;5;241m.\u001b[39mcommand_header \u001b[38;5;241m+\u001b[39m\\\n\u001b[0;32m   1300\u001b[0m     args_command \u001b[38;5;241m+\u001b[39m\\\n\u001b[0;32m   1301\u001b[0m     proto\u001b[38;5;241m.\u001b[39mEND_COMMAND_PART\n\u001b[0;32m   1303\u001b[0m answer \u001b[38;5;241m=\u001b[39m \u001b[38;5;28mself\u001b[39m\u001b[38;5;241m.\u001b[39mgateway_client\u001b[38;5;241m.\u001b[39msend_command(command)\n\u001b[1;32m-> 1304\u001b[0m return_value \u001b[38;5;241m=\u001b[39m \u001b[43mget_return_value\u001b[49m\u001b[43m(\u001b[49m\n\u001b[0;32m   1305\u001b[0m \u001b[43m    \u001b[49m\u001b[43manswer\u001b[49m\u001b[43m,\u001b[49m\u001b[43m \u001b[49m\u001b[38;5;28;43mself\u001b[39;49m\u001b[38;5;241;43m.\u001b[39;49m\u001b[43mgateway_client\u001b[49m\u001b[43m,\u001b[49m\u001b[43m \u001b[49m\u001b[38;5;28;43mself\u001b[39;49m\u001b[38;5;241;43m.\u001b[39;49m\u001b[43mtarget_id\u001b[49m\u001b[43m,\u001b[49m\u001b[43m \u001b[49m\u001b[38;5;28;43mself\u001b[39;49m\u001b[38;5;241;43m.\u001b[39;49m\u001b[43mname\u001b[49m\u001b[43m)\u001b[49m\n\u001b[0;32m   1307\u001b[0m \u001b[38;5;28;01mfor\u001b[39;00m temp_arg \u001b[38;5;129;01min\u001b[39;00m temp_args:\n\u001b[0;32m   1308\u001b[0m     temp_arg\u001b[38;5;241m.\u001b[39m_detach()\n",
      "File \u001b[1;32mc:\\Users\\durai\\AppData\\Local\\Programs\\Python\\Python38\\lib\\site-packages\\pyspark\\sql\\utils.py:128\u001b[0m, in \u001b[0;36mcapture_sql_exception.<locals>.deco\u001b[1;34m(*a, **kw)\u001b[0m\n\u001b[0;32m    126\u001b[0m \u001b[38;5;28;01mdef\u001b[39;00m \u001b[38;5;21mdeco\u001b[39m(\u001b[38;5;241m*\u001b[39ma, \u001b[38;5;241m*\u001b[39m\u001b[38;5;241m*\u001b[39mkw):\n\u001b[0;32m    127\u001b[0m     \u001b[38;5;28;01mtry\u001b[39;00m:\n\u001b[1;32m--> 128\u001b[0m         \u001b[38;5;28;01mreturn\u001b[39;00m \u001b[43mf\u001b[49m\u001b[43m(\u001b[49m\u001b[38;5;241;43m*\u001b[39;49m\u001b[43ma\u001b[49m\u001b[43m,\u001b[49m\u001b[43m \u001b[49m\u001b[38;5;241;43m*\u001b[39;49m\u001b[38;5;241;43m*\u001b[39;49m\u001b[43mkw\u001b[49m\u001b[43m)\u001b[49m\n\u001b[0;32m    129\u001b[0m     \u001b[38;5;28;01mexcept\u001b[39;00m py4j\u001b[38;5;241m.\u001b[39mprotocol\u001b[38;5;241m.\u001b[39mPy4JJavaError \u001b[38;5;28;01mas\u001b[39;00m e:\n\u001b[0;32m    130\u001b[0m         converted \u001b[38;5;241m=\u001b[39m convert_exception(e\u001b[38;5;241m.\u001b[39mjava_exception)\n",
      "File \u001b[1;32mc:\\Users\\durai\\AppData\\Local\\Programs\\Python\\Python38\\lib\\site-packages\\py4j\\protocol.py:326\u001b[0m, in \u001b[0;36mget_return_value\u001b[1;34m(answer, gateway_client, target_id, name)\u001b[0m\n\u001b[0;32m    324\u001b[0m value \u001b[38;5;241m=\u001b[39m OUTPUT_CONVERTER[\u001b[38;5;28mtype\u001b[39m](answer[\u001b[38;5;241m2\u001b[39m:], gateway_client)\n\u001b[0;32m    325\u001b[0m \u001b[38;5;28;01mif\u001b[39;00m answer[\u001b[38;5;241m1\u001b[39m] \u001b[38;5;241m==\u001b[39m REFERENCE_TYPE:\n\u001b[1;32m--> 326\u001b[0m     \u001b[38;5;28;01mraise\u001b[39;00m Py4JJavaError(\n\u001b[0;32m    327\u001b[0m         \u001b[38;5;124m\"\u001b[39m\u001b[38;5;124mAn error occurred while calling \u001b[39m\u001b[38;5;132;01m{0}\u001b[39;00m\u001b[38;5;132;01m{1}\u001b[39;00m\u001b[38;5;132;01m{2}\u001b[39;00m\u001b[38;5;124m.\u001b[39m\u001b[38;5;130;01m\\n\u001b[39;00m\u001b[38;5;124m\"\u001b[39m\u001b[38;5;241m.\u001b[39m\n\u001b[0;32m    328\u001b[0m         \u001b[38;5;28mformat\u001b[39m(target_id, \u001b[38;5;124m\"\u001b[39m\u001b[38;5;124m.\u001b[39m\u001b[38;5;124m\"\u001b[39m, name), value)\n\u001b[0;32m    329\u001b[0m \u001b[38;5;28;01melse\u001b[39;00m:\n\u001b[0;32m    330\u001b[0m     \u001b[38;5;28;01mraise\u001b[39;00m Py4JError(\n\u001b[0;32m    331\u001b[0m         \u001b[38;5;124m\"\u001b[39m\u001b[38;5;124mAn error occurred while calling \u001b[39m\u001b[38;5;132;01m{0}\u001b[39;00m\u001b[38;5;132;01m{1}\u001b[39;00m\u001b[38;5;132;01m{2}\u001b[39;00m\u001b[38;5;124m. Trace:\u001b[39m\u001b[38;5;130;01m\\n\u001b[39;00m\u001b[38;5;132;01m{3}\u001b[39;00m\u001b[38;5;130;01m\\n\u001b[39;00m\u001b[38;5;124m\"\u001b[39m\u001b[38;5;241m.\u001b[39m\n\u001b[0;32m    332\u001b[0m         \u001b[38;5;28mformat\u001b[39m(target_id, \u001b[38;5;124m\"\u001b[39m\u001b[38;5;124m.\u001b[39m\u001b[38;5;124m\"\u001b[39m, name, value))\n",
      "\u001b[1;31mPy4JJavaError\u001b[0m: An error occurred while calling o230.save.\n: org.apache.spark.SparkException: Job aborted.\r\n\tat org.apache.spark.sql.errors.QueryExecutionErrors$.jobAbortedError(QueryExecutionErrors.scala:651)\r\n\tat org.apache.spark.sql.execution.datasources.FileFormatWriter$.write(FileFormatWriter.scala:278)\r\n\tat org.apache.spark.sql.execution.datasources.InsertIntoHadoopFsRelationCommand.run(InsertIntoHadoopFsRelationCommand.scala:186)\r\n\tat org.apache.spark.sql.execution.command.DataWritingCommandExec.sideEffectResult$lzycompute(commands.scala:113)\r\n\tat org.apache.spark.sql.execution.command.DataWritingCommandExec.sideEffectResult(commands.scala:111)\r\n\tat org.apache.spark.sql.execution.command.DataWritingCommandExec.executeCollect(commands.scala:125)\r\n\tat org.apache.spark.sql.execution.QueryExecution$$anonfun$eagerlyExecuteCommands$1.$anonfun$applyOrElse$1(QueryExecution.scala:98)\r\n\tat org.apache.spark.sql.execution.SQLExecution$.$anonfun$withNewExecutionId$6(SQLExecution.scala:109)\r\n\tat org.apache.spark.sql.execution.SQLExecution$.withSQLConfPropagated(SQLExecution.scala:169)\r\n\tat org.apache.spark.sql.execution.SQLExecution$.$anonfun$withNewExecutionId$1(SQLExecution.scala:95)\r\n\tat org.apache.spark.sql.SparkSession.withActive(SparkSession.scala:779)\r\n\tat org.apache.spark.sql.execution.SQLExecution$.withNewExecutionId(SQLExecution.scala:64)\r\n\tat org.apache.spark.sql.execution.QueryExecution$$anonfun$eagerlyExecuteCommands$1.applyOrElse(QueryExecution.scala:98)\r\n\tat org.apache.spark.sql.execution.QueryExecution$$anonfun$eagerlyExecuteCommands$1.applyOrElse(QueryExecution.scala:94)\r\n\tat org.apache.spark.sql.catalyst.trees.TreeNode.$anonfun$transformDownWithPruning$1(TreeNode.scala:584)\r\n\tat org.apache.spark.sql.catalyst.trees.CurrentOrigin$.withOrigin(TreeNode.scala:176)\r\n\tat org.apache.spark.sql.catalyst.trees.TreeNode.transformDownWithPruning(TreeNode.scala:584)\r\n\tat org.apache.spark.sql.catalyst.plans.logical.LogicalPlan.org$apache$spark$sql$catalyst$plans$logical$AnalysisHelper$$super$transformDownWithPruning(LogicalPlan.scala:30)\r\n\tat org.apache.spark.sql.catalyst.plans.logical.AnalysisHelper.transformDownWithPruning(AnalysisHelper.scala:267)\r\n\tat org.apache.spark.sql.catalyst.plans.logical.AnalysisHelper.transformDownWithPruning$(AnalysisHelper.scala:263)\r\n\tat org.apache.spark.sql.catalyst.plans.logical.LogicalPlan.transformDownWithPruning(LogicalPlan.scala:30)\r\n\tat org.apache.spark.sql.catalyst.plans.logical.LogicalPlan.transformDownWithPruning(LogicalPlan.scala:30)\r\n\tat org.apache.spark.sql.catalyst.trees.TreeNode.transformDown(TreeNode.scala:560)\r\n\tat org.apache.spark.sql.execution.QueryExecution.eagerlyExecuteCommands(QueryExecution.scala:94)\r\n\tat org.apache.spark.sql.execution.QueryExecution.commandExecuted$lzycompute(QueryExecution.scala:81)\r\n\tat org.apache.spark.sql.execution.QueryExecution.commandExecuted(QueryExecution.scala:79)\r\n\tat org.apache.spark.sql.execution.QueryExecution.assertCommandExecuted(QueryExecution.scala:116)\r\n\tat org.apache.spark.sql.DataFrameWriter.runCommand(DataFrameWriter.scala:860)\r\n\tat org.apache.spark.sql.DataFrameWriter.saveToV1Source(DataFrameWriter.scala:390)\r\n\tat org.apache.spark.sql.DataFrameWriter.saveInternal(DataFrameWriter.scala:363)\r\n\tat org.apache.spark.sql.DataFrameWriter.save(DataFrameWriter.scala:239)\r\n\tat sun.reflect.NativeMethodAccessorImpl.invoke0(Native Method)\r\n\tat sun.reflect.NativeMethodAccessorImpl.invoke(Unknown Source)\r\n\tat sun.reflect.DelegatingMethodAccessorImpl.invoke(Unknown Source)\r\n\tat java.lang.reflect.Method.invoke(Unknown Source)\r\n\tat py4j.reflection.MethodInvoker.invoke(MethodInvoker.java:244)\r\n\tat py4j.reflection.ReflectionEngine.invoke(ReflectionEngine.java:357)\r\n\tat py4j.Gateway.invoke(Gateway.java:282)\r\n\tat py4j.commands.AbstractCommand.invokeMethod(AbstractCommand.java:132)\r\n\tat py4j.commands.CallCommand.execute(CallCommand.java:79)\r\n\tat py4j.ClientServerConnection.waitForCommands(ClientServerConnection.java:182)\r\n\tat py4j.ClientServerConnection.run(ClientServerConnection.java:106)\r\n\tat java.lang.Thread.run(Unknown Source)\r\nCaused by: java.lang.UnsatisfiedLinkError: org.apache.hadoop.io.nativeio.NativeIO$Windows.access0(Ljava/lang/String;I)Z\r\n\tat org.apache.hadoop.io.nativeio.NativeIO$Windows.access0(Native Method)\r\n\tat org.apache.hadoop.io.nativeio.NativeIO$Windows.access(NativeIO.java:793)\r\n\tat org.apache.hadoop.fs.FileUtil.canRead(FileUtil.java:1218)\r\n\tat org.apache.hadoop.fs.FileUtil.list(FileUtil.java:1423)\r\n\tat org.apache.hadoop.fs.RawLocalFileSystem.listStatus(RawLocalFileSystem.java:601)\r\n\tat org.apache.hadoop.fs.FileSystem.listStatus(FileSystem.java:1972)\r\n\tat org.apache.hadoop.fs.FileSystem.listStatus(FileSystem.java:2014)\r\n\tat org.apache.hadoop.fs.ChecksumFileSystem.listStatus(ChecksumFileSystem.java:761)\r\n\tat org.apache.hadoop.fs.FileSystem.listStatus(FileSystem.java:1972)\r\n\tat org.apache.hadoop.fs.FileSystem.listStatus(FileSystem.java:2014)\r\n\tat org.apache.hadoop.mapreduce.lib.output.FileOutputCommitter.getAllCommittedTaskPaths(FileOutputCommitter.java:334)\r\n\tat org.apache.hadoop.mapreduce.lib.output.FileOutputCommitter.commitJobInternal(FileOutputCommitter.java:404)\r\n\tat org.apache.hadoop.mapreduce.lib.output.FileOutputCommitter.commitJob(FileOutputCommitter.java:377)\r\n\tat org.apache.spark.internal.io.HadoopMapReduceCommitProtocol.commitJob(HadoopMapReduceCommitProtocol.scala:192)\r\n\tat org.apache.spark.sql.execution.datasources.FileFormatWriter$.$anonfun$write$25(FileFormatWriter.scala:267)\r\n\tat scala.runtime.java8.JFunction0$mcV$sp.apply(JFunction0$mcV$sp.scala:18)\r\n\tat org.apache.spark.util.Utils$.timeTakenMs(Utils.scala:642)\r\n\tat org.apache.spark.sql.execution.datasources.FileFormatWriter$.write(FileFormatWriter.scala:267)\r\n\t... 41 more\r\n"
     ]
    }
   ],
   "source": [
    "# load_dt, tran_dt, load_id\n",
    "spark.conf.set(\"fs.defaultFS\", \"file:///\")\n",
    "spark.conf.set(\"spark.hadoop.io.native.lib.available\", \"false\")\n",
    "import os\n",
    "import sys\n",
    "\n",
    "os.environ['PYSPARK_PYTHON'] = sys.executable\n",
    "os.environ['PYSPARK_DRIVER_PYTHON'] = sys.executable\n",
    "from pyspark.sql.functions import col,substring,count\n",
    "(\n",
    "    df\n",
    "    .na.fill('')\n",
    "    .coalesce(1)\n",
    "    .filter((substring(\"timestamp\", 1, 10) <= '2022/09/03'))\n",
    "    .write\n",
    "    .option(\"header\",\"true\")\n",
    "    .format(\"csv\")\n",
    "    .save(r\"data\\transactions\\transactions_load_1\")\n",
    ")\n",
    "\n",
    "\n",
    "#merge resolve"
   ]
  }
 ],
 "metadata": {
  "kernelspec": {
   "display_name": "Python 3",
   "language": "python",
   "name": "python3"
  },
  "language_info": {
   "codemirror_mode": {
    "name": "ipython",
    "version": 3
   },
   "file_extension": ".py",
   "mimetype": "text/x-python",
   "name": "python",
   "nbconvert_exporter": "python",
   "pygments_lexer": "ipython3",
   "version": "undefined.undefined.undefined"
  }
 },
 "nbformat": 4,
 "nbformat_minor": 2
}
