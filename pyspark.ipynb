{
 "cells": [
  {
   "cell_type": "code",
   "execution_count": 15,
   "metadata": {},
   "outputs": [
    {
     "data": {
      "text/html": [
       "\n",
       "            <div>\n",
       "                <p><b>SparkSession - in-memory</b></p>\n",
       "                \n",
       "        <div>\n",
       "            <p><b>SparkContext</b></p>\n",
       "\n",
       "            <p><a href=\"http://DESKTOP-81J01N7:4040\">Spark UI</a></p>\n",
       "\n",
       "            <dl>\n",
       "              <dt>Version</dt>\n",
       "                <dd><code>v3.0.1</code></dd>\n",
       "              <dt>Master</dt>\n",
       "                <dd><code>local[*]</code></dd>\n",
       "              <dt>AppName</dt>\n",
       "                <dd><code>Snowflake to PySpark</code></dd>\n",
       "            </dl>\n",
       "        </div>\n",
       "        \n",
       "            </div>\n",
       "        "
      ],
      "text/plain": [
       "<pyspark.sql.session.SparkSession at 0x1eca2e4d190>"
      ]
     },
     "execution_count": 15,
     "metadata": {},
     "output_type": "execute_result"
    }
   ],
   "source": [
    "# pip install snowflake-connector-python\n",
    "# pip install snowflake-sqlalchemy\n",
    "# pip install pyspark findspark\n",
    "\n",
    "import os\n",
    "import findspark\n",
    "findspark.init()\n",
    "from dotenv import load_dotenv\n",
    "from pyspark.sql import SparkSession\n",
    "load_dotenv()\n",
    "\n",
    "# Initialize a Spark session\n",
    "spark = (SparkSession.builder\n",
    "    .appName(\"Snowflake to PySpark\")\n",
    "    .config(\"spark.jars.packages\", \"net.snowflake:spark-snowflake_2.12:2.10.0-spark_3.2\") \n",
    "    .master(\"local[*]\")\n",
    "    .getOrCreate())\n",
    "\n",
    "# Display the Spark session \n",
    "spark"
   ]
  },
  {
   "cell_type": "code",
   "execution_count": 16,
   "metadata": {},
   "outputs": [],
   "source": [
    "# Snowflake connection options\n",
    "sfOptions = {\n",
    "    \"sfURL\": f\"https://{os.getenv('ACCOUNT')}.ap-south-1.aws.snowflakecomputing.com\",\n",
    "    \"sfUser\": os.getenv('USER_NAME'),\n",
    "    \"sfPassword\": os.getenv('PASSWORD'),\n",
    "    \"sfDatabase\": \"US_ZIP_CODE_CROSSWALK_HUDUPS\",\n",
    "    \"sfSchema\": \"zipcode_crosswalk\",\n",
    "    \"sfWarehouse\": \"compute_wh\",\n",
    "    \"sfRole\": \"ACCOUNTADMIN\"\n",
    "}\n",
    "\n",
    "# Read the data from Snowflake table into a DataFrame\n",
    "df = spark.read \\\n",
    "    .format(\"net.snowflake.spark.snowflake\") \\\n",
    "    .options(**sfOptions) \\\n",
    "    .option(\"dbtable\", \"COVID19_EPIDEMIOLOGICAL_DATA.PUBLIC.DEMOGRAPHICS\") \\\n",
    "    .load()\n",
    "\n",
    "# Register the DataFrame as a temporary SQL view for processing\n",
    "df.createOrReplaceTempView(\"demographics\")\n"
   ]
  },
  {
   "cell_type": "code",
   "execution_count": 17,
   "metadata": {},
   "outputs": [
    {
     "name": "stdout",
     "output_type": "stream",
     "text": [
      "+---------+---------+-----+----------+------------+-----+--------------------+----------------+---------------------+-----------------------+\n",
      "|ISO3166_1|ISO3166_2| FIPS|  LATITUDE|   LONGITUDE|STATE|              COUNTY|TOTAL_POPULATION|TOTAL_MALE_POPULATION|TOTAL_FEMALE_POPULATION|\n",
      "+---------+---------+-----+----------+------------+-----+--------------------+----------------+---------------------+-----------------------+\n",
      "|       US|       AK|02013|55.0952467|-160.0272746|   AK|Aleutians East Bo...|            3299|                 2145|                   1154|\n",
      "|       US|       AK|02016|51.9594469|  178.338813|   AK|Aleutians West Ce...|            5714|                 3578|                   2136|\n",
      "|       US|       AK|02020|61.2327493|-148.6669728|   AK|Anchorage Municip...|          299321|               152681|                 146640|\n",
      "|       US|       AK|02050| 61.350537|-156.4386201|   AK|  Bethel Census Area|           17885|                 9358|                   8527|\n",
      "|       US|       AK|02060|58.6917905|-156.6628298|   AK| Bristol Bay Borough|             942|                  536|                    406|\n",
      "|       US|       AK|02068|63.6811063|-150.0265438|   AK|      Denali Borough|            2125|                 1142|                    983|\n",
      "|       US|       AK|02070|59.2146456|-158.0816278|   AK|Dillingham Census...|            4980|                 2564|                   2416|\n",
      "|       US|       AK|02090|64.6252976|-145.1308903|   AK|Fairbanks North S...|          100150|                53774|                  46376|\n",
      "|       US|       AK|02100|59.2106378|-135.4117493|   AK|      Haines Borough|            2528|                 1429|                   1099|\n",
      "|       US|       AK|02105|57.3784915|-134.2793913|   AK|Hoonah-Angoon Cen...|            2107|                 1084|                   1023|\n",
      "|       US|       AK|02110|58.2837494|-133.7869735|   AK|Juneau City and B...|           32524|                16648|                  15876|\n",
      "|       US|       AK|02122|60.6153549|-149.3727833|   AK|Kenai Peninsula B...|           57637|                30103|                  27534|\n",
      "|       US|       AK|02130|55.4499378|-131.1066847|   AK|Ketchikan Gateway...|           13715|                 7038|                   6677|\n",
      "|       US|       AK|02150| 57.811219|-152.3506332|   AK|Kodiak Island Bor...|           13918|                 7338|                   6580|\n",
      "|       US|       AK|02164|60.0338618|-155.4322318|   AK|Lake and Peninsul...|            1411|                  720|                    691|\n",
      "|       US|       AK|02170|62.0062263|-147.5314722|   AK|Matanuska-Susitna...|           98679|                51495|                  47184|\n",
      "|       US|       AK|02180|64.2106499|-160.3134097|   AK|    Nome Census Area|            9879|                 5317|                   4562|\n",
      "|       US|       AK|02185|70.1018855|-149.8673597|   AK| North Slope Borough|            9681|                 6114|                   3567|\n",
      "|       US|       AK|02188|67.1337559|-157.1968152|   AK|Northwest Arctic ...|            7723|                 4181|                   3542|\n",
      "|       US|       AK|02195|56.8128218|-132.9337068|   AK|Petersburg Census...|            3196|                 1712|                   1484|\n",
      "+---------+---------+-----+----------+------------+-----+--------------------+----------------+---------------------+-----------------------+\n",
      "only showing top 20 rows\n",
      "\n"
     ]
    }
   ],
   "source": [
    "df.show()"
   ]
  }
 ],
 "metadata": {
  "kernelspec": {
   "display_name": "Python 3",
   "language": "python",
   "name": "python3"
  },
  "language_info": {
   "codemirror_mode": {
    "name": "ipython",
    "version": 3
   },
   "file_extension": ".py",
   "mimetype": "text/x-python",
   "name": "python",
   "nbconvert_exporter": "python",
   "pygments_lexer": "ipython3",
   "version": "3.8.0"
  }
 },
 "nbformat": 4,
 "nbformat_minor": 2
}
